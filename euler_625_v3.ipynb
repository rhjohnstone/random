{
 "cells": [
  {
   "cell_type": "code",
   "execution_count": 7,
   "metadata": {},
   "outputs": [],
   "source": [
    "from scipy.special import zeta\n",
    "import eulerlib.numtheory as en\n",
    "import numpy as np"
   ]
  },
  {
   "cell_type": "code",
   "execution_count": 16,
   "metadata": {},
   "outputs": [
    {
     "name": "stdout",
     "output_type": "stream",
     "text": [
      "[  1   4   9  17  26  41  54  74  95 122 143 183 208 247 292 340 373 436\n",
      " 473 545]\n"
     ]
    }
   ],
   "source": [
    "num_answers = 20\n",
    "answers = np.zeros(num_answers, dtype=int)\n",
    "for m in xrange(1, num_answers+1):\n",
    "    total = 0\n",
    "    for j in xrange(1, m+1):\n",
    "        for i in xrange(1, j+1):\n",
    "            total += en.gcd(i,j)\n",
    "    answers[m-1] = total\n",
    "print answers"
   ]
  },
  {
   "cell_type": "code",
   "execution_count": null,
   "metadata": {},
   "outputs": [],
   "source": []
  }
 ],
 "metadata": {
  "kernelspec": {
   "display_name": "Python 2",
   "language": "python",
   "name": "python2"
  },
  "language_info": {
   "codemirror_mode": {
    "name": "ipython",
    "version": 2
   },
   "file_extension": ".py",
   "mimetype": "text/x-python",
   "name": "python",
   "nbconvert_exporter": "python",
   "pygments_lexer": "ipython2",
   "version": "2.7.12"
  }
 },
 "nbformat": 4,
 "nbformat_minor": 2
}
