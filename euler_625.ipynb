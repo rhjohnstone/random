{
 "cells": [
  {
   "cell_type": "code",
   "execution_count": 7,
   "metadata": {},
   "outputs": [],
   "source": [
    "import eulerlib.numtheory as en\n",
    "import numpy as np\n",
    "from time import time\n",
    "\n",
    "num_runs = 2\n",
    "N = 10000"
   ]
  },
  {
   "cell_type": "code",
   "execution_count": 8,
   "metadata": {},
   "outputs": [
    {
     "name": "stdout",
     "output_type": "stream",
     "text": [
      "317257140 avg time: 106.89 s\n"
     ]
    }
   ],
   "source": [
    "start = time()\n",
    "for _ in xrange(num_runs):\n",
    "    # Check G(N) by brute force, won't work for big N\n",
    "    total = 0\n",
    "    for j in xrange(1, N+1):\n",
    "        for i in xrange(1, j+1):\n",
    "            total += en.gcd(i,j)\n",
    "time_taken = time() - start\n",
    "print total, \"avg time: {} s\".format(round(time_taken/num_runs,2))"
   ]
  },
  {
   "cell_type": "code",
   "execution_count": 9,
   "metadata": {},
   "outputs": [
    {
     "name": "stdout",
     "output_type": "stream",
     "text": [
      "317257140 avg time: 3.61 s\n"
     ]
    }
   ],
   "source": [
    "start = time()\n",
    "for _ in xrange(num_runs):\n",
    "    # from OEIS\n",
    "    div = en.Divisors(N)\n",
    "    total = 0\n",
    "    for j in xrange(1, N+1):\n",
    "        for d in div.divisors(j):\n",
    "            total += d*div.phi(j/d)\n",
    "time_taken = time() - start\n",
    "print total, \"avg time: {} s\".format(round(time_taken/num_runs,2))"
   ]
  },
  {
   "cell_type": "code",
   "execution_count": 12,
   "metadata": {},
   "outputs": [
    {
     "name": "stdout",
     "output_type": "stream",
     "text": [
      "1,4,9,17,26,41,54,74,95,122\n"
     ]
    }
   ],
   "source": [
    "totals = []\n",
    "for N in xrange(1,11):\n",
    "    div = en.Divisors(N)\n",
    "    total = 0\n",
    "    for j in xrange(1, N+1):\n",
    "        for d in div.divisors(j):\n",
    "            total += d*div.phi(j/d)\n",
    "    totals.append(total)\n",
    "print ','.join(map(str, totals))"
   ]
  },
  {
   "cell_type": "code",
   "execution_count": null,
   "metadata": {},
   "outputs": [],
   "source": []
  }
 ],
 "metadata": {
  "kernelspec": {
   "display_name": "Python 2",
   "language": "python",
   "name": "python2"
  },
  "language_info": {
   "codemirror_mode": {
    "name": "ipython",
    "version": 2
   },
   "file_extension": ".py",
   "mimetype": "text/x-python",
   "name": "python",
   "nbconvert_exporter": "python",
   "pygments_lexer": "ipython2",
   "version": "2.7.12"
  }
 },
 "nbformat": 4,
 "nbformat_minor": 2
}
