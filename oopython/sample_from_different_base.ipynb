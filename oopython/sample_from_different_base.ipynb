{
 "cells": [
  {
   "cell_type": "code",
   "execution_count": 1,
   "metadata": {},
   "outputs": [],
   "source": [
    "import numpy.random as npr\n",
    "import numpy as np\n",
    "from time import time\n",
    "import matplotlib.pyplot as plt\n",
    "plt.style.use(\"ggplot\")\n",
    "%matplotlib inline\n",
    "import itertools as it"
   ]
  },
  {
   "cell_type": "code",
   "execution_count": 2,
   "metadata": {},
   "outputs": [],
   "source": [
    "class sampler(object):\n",
    "    \"\"\"Sample integers from U(1,b) given only the ability to sample integers from U(1,a).\"\"\"\n",
    "    def __init__(self, original_base, new_base):\n",
    "        self.original_base = original_base\n",
    "        self.new_base = new_base\n",
    "        self.case_size = original_base**2 / new_base\n",
    "        assert(self.case_size)\n",
    "        num_cases = self.case_size * new_base\n",
    "        self.all_combos = []\n",
    "        for j, (a, b) in enumerate(it.product(range(1, original_base+1), repeat=2)):\n",
    "            if j < num_cases:\n",
    "                self.all_combos.append(10*a+b)\n",
    "            else:\n",
    "                self.ceiling = 10*a + b\n",
    "                break\n",
    "    def sample_from_new_base(self):\n",
    "        \"\"\"2-d sample is taken and if it's in the list, return the chunk of the list it lies in, where there are b chunks.\n",
    "        \"\"\"\n",
    "        while True:\n",
    "            a, b = npr.randint(1, self.original_base+1, 2)\n",
    "            concat = 10*a + b\n",
    "            if concat < self.ceiling:\n",
    "                return self.all_combos.index(concat)/self.case_size + 1"
   ]
  },
  {
   "cell_type": "code",
   "execution_count": 3,
   "metadata": {},
   "outputs": [
    {
     "name": "stdout",
     "output_type": "stream",
     "text": [
      "Time taken: 2.4 s\n",
      "\n",
      "Theoretical mean: 4.0\n",
      "Samples mean: 3.99849 \n",
      "\n",
      "Theoretical var: 4.0\n",
      "Samples var: 4.0038677199 \n",
      "\n"
     ]
    },
    {
     "data": {
      "image/png": "[encoded data removed]",
      "text/plain": [
       "<matplotlib.figure.Figure at 0x7f7580366450>"
      ]
     },
     "metadata": {},
     "output_type": "display_data"
    }
   ],
   "source": [
    "old_base = 5\n",
    "new_base = 7\n",
    "num_samples = 100000\n",
    "\n",
    "start = time()\n",
    "mysampler = sampler(old_base, new_base)\n",
    "samples = np.zeros(num_samples)\n",
    "for i in xrange(num_samples):\n",
    "    samples[i] = mysampler.sample_from_new_base()\n",
    "    #mysampler.sample_from_new_base()\n",
    "tt = time()-start\n",
    "print \"Time taken: {} s\\n\".format(round(tt,1))\n",
    "\n",
    "d = np.diff(np.unique(samples)).min()\n",
    "left_of_first_bin = samples.min() - float(d)/2\n",
    "right_of_last_bin = samples.max() + float(d)/2\n",
    "plt.hist(samples, np.arange(left_of_first_bin, right_of_last_bin + d, d));\n",
    "\n",
    "theoretical_mean = (1 + new_base)/2.\n",
    "theoretical_var = (new_base**2-1)/12.\n",
    "\n",
    "samples_mean = samples.mean()\n",
    "samples_var = samples.var()\n",
    "\n",
    "print \"Theoretical mean:\", theoretical_mean\n",
    "print \"Samples mean:\", samples_mean, \"\\n\"\n",
    "\n",
    "print \"Theoretical var:\", theoretical_var\n",
    "print \"Samples var:\", samples_var, \"\\n\""
   ]
  },
  {
   "cell_type": "code",
   "execution_count": null,
   "metadata": {},
   "outputs": [],
   "source": []
  }
 ],
 "metadata": {
  "kernelspec": {
   "display_name": "Python 2",
   "language": "python",
   "name": "python2"
  },
  "language_info": {
   "codemirror_mode": {
    "name": "ipython",
    "version": 2
   },
   "file_extension": ".py",
   "mimetype": "text/x-python",
   "name": "python",
   "nbconvert_exporter": "python",
   "pygments_lexer": "ipython2",
   "version": "2.7.12"
  }
 },
 "nbformat": 4,
 "nbformat_minor": 2
}
